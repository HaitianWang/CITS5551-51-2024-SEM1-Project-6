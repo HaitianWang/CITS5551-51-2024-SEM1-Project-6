{
 "cells": [
  {
   "cell_type": "markdown",
   "metadata": {},
   "source": [
    "# Introduction"
   ]
  },
  {
   "cell_type": "markdown",
   "metadata": {},
   "source": [
    "This prototype is for UWAIntelliCrop Project. \n",
    "\n",
    "1. **Purpose and Application**:\n",
    "   - Designed to handle multi-spectral imaging data for precise spatial analysis.\n",
    "   - Designed to classify crops, weeds, as well as others .\n",
    "\n",
    "2. **Core Technology**:\n",
    "   - Utilizes TensorFlow and Keras for building and managing deep learning models.\n",
    "   - Leverages the InceptionV3 architecture, renowned for its effectiveness in image classification tasks.\n",
    "\n",
    "3. **Custom ResizeLayer**:\n",
    "   - Introduces a `ResizeLayer` to adjust tensor spatial dimensions dynamically.\n",
    "   - Ensures compatibility of network layers by matching their input and output sizes, facilitating smooth data processing.\n",
    "\n",
    "4. **Adaptation of InceptionV3**:\n",
    "   - Employs InceptionV3 without its classification top layer to extend its application to segmentation tasks.\n",
    "   - Adapts the model to handle inputs with 15 channels by first reducing them to 3 channels using a custom convolutional layer, making it compatible with the pre-trained model.\n",
    "\n",
    "5. **Enhancements with Convolutional Layers**:\n",
    "   - Additional convolutional layers are used to refine features and maintain spatial dimensions.\n",
    "   - Ends with a convolutional layer that outputs four channels representing different segmentation classes.\n",
    "\n",
    "6. **Output Processing**:\n",
    "   - Applies a custom `ResizeLayer` to scale the output back to the original input dimensions (512x512), aligning the output with practical usage requirements.\n",
    "   - Uses a Softmax layer to convert the final layer outputs into a probability distribution, facilitating easy interpretation of results.\n",
    "\n",
    "7. **Model Training and Compilation**:\n",
    "   - Freezes the pre-trained layers to retain learned features while training only the newly added layers.\n",
    "   - Compiles the model with RMSprop optimizer and categorical cross-entropy loss for effective learning.\n"
   ]
  },
  {
   "cell_type": "markdown",
   "metadata": {},
   "source": [
    "# 0. Load Dependencies"
   ]
  },
  {
   "cell_type": "markdown",
   "metadata": {},
   "source": [
    "\n",
    "This code block imports necessary libraries and defines utility functions for loading and handling data:"
   ]
  },
  {
   "cell_type": "code",
   "execution_count": 35,
   "metadata": {},
   "outputs": [],
   "source": [
    "import os\n",
    "import numpy as np\n",
    "import pandas as pd\n",
    "import rasterio\n",
    "import tensorflow as tf\n",
    "import sys\n",
    "from sklearn.model_selection import train_test_split\n",
    "from tensorflow.keras.utils import to_categorical\n",
    "from tensorflow.keras.applications.inception_v3 import InceptionV3\n",
    "from tensorflow.keras.layers import Conv2D, UpSampling2D, concatenate, Input, BatchNormalization, Layer\n",
    "from tensorflow.keras.models import Model\n",
    "from tensorflow.keras.optimizers import Adam\n",
    "import matplotlib.pyplot as plt\n",
    "import rasterio\n",
    "import re\n"
   ]
  },
  {
   "cell_type": "markdown",
   "metadata": {},
   "source": [
    "Here libraries are imported for file operations, data manipulation, machine learning, and image processing. The tensorflow library is notably used for building and training deep learning models."
   ]
  },
  {
   "cell_type": "markdown",
   "metadata": {},
   "source": [
    "# 1. Data Sourcing: Load from Files\n",
    "\n"
   ]
  },
  {
   "cell_type": "markdown",
   "metadata": {},
   "source": [
    "This script defines a **read_X** function that navigates directories to load `multi-spectral` images and their labels for use in deep learning. Each image and its corresponding label are collected unless the directory contains images with `NaN` values, which are skipped."
   ]
  },
  {
   "cell_type": "code",
   "execution_count": 36,
   "metadata": {},
   "outputs": [],
   "source": [
    "\n",
    "base_path = './test1'\n",
    "pattern = re.compile(r'smalldata_(\\d+)_(\\d+)')\n",
    "indices = ['ExG', 'ExR', 'PRI', 'MGRVI', 'SAVI', 'MSAVI', 'EVI', 'REIP', 'NDVI', 'GNDVI', 'CI', 'OSAVI', 'TVI', 'MCARI', 'TCARI']\n",
    "\n",
    "def load_tif(file_path):\n",
    "    # Function to load .tif file and return as a numpy array using rasterio\n",
    "    with rasterio.open(file_path) as src:\n",
    "        return src.read(1)  # Read the first band\n",
    "\n",
    "def read_X(dir=base_path, indices=indices):\n",
    "    images = []\n",
    "    labels = []\n",
    "    for root, dirs, files in os.walk(dir):\n",
    "        for dir_name in dirs:\n",
    "            match = pattern.match(dir_name)\n",
    "            if match:\n",
    "                group_number = match.group(1)\n",
    "                sub_group_number = match.group(2)\n",
    "                dir_path = os.path.join(root, dir_name)\n",
    "                channels = []\n",
    "                skip_directory = False\n",
    "                for file_name in os.listdir(dir_path):\n",
    "                    if file_name.endswith('.tif'):\n",
    "                        for index in indices:\n",
    "                            if file_name.startswith(index):\n",
    "                                file_path = os.path.join(dir_path, file_name)\n",
    "                                data = load_tif(file_path)\n",
    "                                if np.isnan(data).any():\n",
    "                                    print(f\"Skipping directory due to NaN values in: {file_path}\")\n",
    "                                    skip_directory = True\n",
    "                                    break\n",
    "                                channels.append(data)\n",
    "                        if skip_directory:\n",
    "                            break\n",
    "                    if file_name.startswith(\"label_matrix\"):\n",
    "                        file_path = os.path.join(dir_path, file_name)\n",
    "                        label_matrix = pd.read_csv(file_path, header=None).values\n",
    "                if not skip_directory:\n",
    "                    images.append(channels)\n",
    "                    labels.append(label_matrix)\n",
    "    return np.array(images), np.array(labels)\n",
    "\n",
    "# # Example usage\n",
    "# images, labels = read_X()\n",
    "# print(images.shape, labels.shape)\n"
   ]
  },
  {
   "cell_type": "code",
   "execution_count": 37,
   "metadata": {},
   "outputs": [],
   "source": [
    "X,y=read_X()"
   ]
  },
  {
   "cell_type": "markdown",
   "metadata": {},
   "source": [
    "# 2. Helper Functions"
   ]
  },
  {
   "cell_type": "markdown",
   "metadata": {},
   "source": [
    "This function converts label matrices into one-hot encoded format for neural network classification, where 4 represents the number of classes."
   ]
  },
  {
   "cell_type": "code",
   "execution_count": 38,
   "metadata": {},
   "outputs": [],
   "source": [
    "import numpy as np\n",
    "\n",
    "def convert_to_one_hot(y):\n",
    "    # Get the shape of the input array\n",
    "    n, h, w = y.shape\n",
    "    \n",
    "    # Initialize an all-zero array with shape (n, h, w, 4)\n",
    "    y_one_hot = np.zeros((n, h, w, 4), dtype=int)\n",
    "    \n",
    "    # Use advanced indexing to convert the original array values to one-hot encoding\n",
    "    for i in range(4):\n",
    "        y_one_hot[..., i] = (y == i)\n",
    "    \n",
    "    return y_one_hot\n",
    "\n",
    "\n",
    "def get_predicted_labels(predictions):\n",
    "    \"\"\"\n",
    "    Convert the predicted probability array to a label array.\n",
    "    \n",
    "    Parameters:\n",
    "    predictions: A predicted probability array with shape (n, 512, 512, 4)\n",
    "    \n",
    "    Returns:\n",
    "    A label array with shape (n, 512, 512), where each point represents its most probable class\n",
    "    \"\"\"\n",
    "    predicted_labels = np.argmax(predictions, axis=-1)\n",
    "    return predicted_labels\n",
    "\n",
    "\n",
    "def one_hot_to_labels(y_one_hot):\n",
    "    \"\"\"\n",
    "    Convert a one-hot encoded array back to a label array.\n",
    "    \n",
    "    Parameters:\n",
    "    y_one_hot: A one-hot encoded array with shape (n, 512, 512, 4)\n",
    "    \n",
    "    Returns:\n",
    "    A label array with shape (n, 512, 512)\n",
    "    \"\"\"\n",
    "    # Use np.argmax to find the index of the maximum value in the fourth dimension\n",
    "    y_labels = np.argmax(y_one_hot, axis=-1)\n",
    "    \n",
    "    return y_labels\n"
   ]
  },
  {
   "cell_type": "markdown",
   "metadata": {},
   "source": [
    "# 3. Model Definition & Model Training"
   ]
  },
  {
   "cell_type": "markdown",
   "metadata": {},
   "source": [
    "## Preprocess"
   ]
  },
  {
   "cell_type": "markdown",
   "metadata": {},
   "source": [
    "These lines prepare the data for input into a neural network. They normalize image data, adjust dimension ordering for TensorFlow, and convert labels to one-hot encoding."
   ]
  },
  {
   "cell_type": "code",
   "execution_count": 39,
   "metadata": {},
   "outputs": [],
   "source": [
    "# Normalize input data to [0, 1]\n",
    "X = X / np.max(X)\n",
    "\n",
    "# Transpose the dimensions of X to (0, 2, 3, 1)\n",
    "X = X.transpose((0, 2, 3, 1))\n",
    "\n",
    "# Convert y to one-hot encoding\n",
    "y_one_hot = convert_to_one_hot(y)\n"
   ]
  },
  {
   "cell_type": "markdown",
   "metadata": {},
   "source": [
    "Function `preprocess_image` is designed to preprocess images and labels. In this case, the function simply returns the input images and labels without any modification or resizing. \n",
    "\n",
    "Function `load_dataset`constructs a TensorFlow dataset from given image and label arrays.The steps within the function include:\n",
    "\n",
    "1. Creating a Dataset Object: `tf.data.Dataset.from_tensor_slices((images, labels))` creates a dataset that slices the input arrays along the first dimension. This is useful when each item in the array corresponds to a data point (e.g., an image and its label).\n",
    "\n",
    "2. Mapping the Preprocessing Function: `dataset.map(preprocess_image, num_parallel_calls=tf.data.experimental.AUTOTUNE)` applies the `preprocess_image` function to each element of the dataset. The `num_parallel_calls` parameter set to AUTOTUNE allows TensorFlow to dynamically determine the optimal number of parallel calls to make, which can improve performance by effectively utilizing available CPU resources.\n",
    "\n",
    "3. Batching and Prefetching: `dataset.batch(batch_size)` groups the dataset elements into batches. This makes it easier to process and train on large datasets because processing small batches typically fits better in memory.\n",
    "`dataset.prefetch(tf.data.experimental.AUTOTUNE)` prefetches dataset elements in the background while the model is being trained. This helps ensure that the GPU or other processing units do not have to wait for new data to become available, thereby improving training efficiency."
   ]
  },
  {
   "cell_type": "code",
   "execution_count": 40,
   "metadata": {},
   "outputs": [],
   "source": [
    "import tensorflow as tf\n",
    "\n",
    "def preprocess_image(image, label):\n",
    "    # Do not resize, keep the original dimensions\n",
    "    return image, label\n",
    "\n",
    "def load_dataset(images, labels, batch_size=4):\n",
    "    # Create a TensorFlow dataset from the images and labels\n",
    "    dataset = tf.data.Dataset.from_tensor_slices((images, labels))\n",
    "    \n",
    "    # Apply the preprocess_image function to each element in the dataset\n",
    "    dataset = dataset.map(preprocess_image, num_parallel_calls=tf.data.experimental.AUTOTUNE)\n",
    "    \n",
    "    # Batch the dataset and prefetch for better performance\n",
    "    dataset = dataset.batch(batch_size).prefetch(tf.data.experimental.AUTOTUNE)\n",
    "    \n",
    "    return dataset\n",
    "\n",
    "# Load the training dataset\n",
    "train_dataset = load_dataset(X, y_one_hot)\n",
    "\n"
   ]
  },
  {
   "cell_type": "markdown",
   "metadata": {},
   "source": [
    "## Create CNN using TensorFlow and Keras"
   ]
  },
  {
   "cell_type": "markdown",
   "metadata": {},
   "source": [
    "Creation of a convolutional neural network (CNN) using TensorFlow and Keras, with a custom layer for resizing, integration of a pre-trained model (InceptionV3), and various adjustments to fit the specific needs of processing multi-channel satellite imagery."
   ]
  },
  {
   "cell_type": "code",
   "execution_count": 41,
   "metadata": {},
   "outputs": [
    {
     "name": "stdout",
     "output_type": "stream",
     "text": [
      "(None, 512, 512, 3)\n",
      "(None, 14, 14, 512)\n",
      "(None, 14, 14, 512)\n",
      "(None, 14, 14, 4)\n",
      "(None, 512, 512, 4)\n"
     ]
    }
   ],
   "source": []
  },
  {
   "cell_type": "code",
   "execution_count": 42,
   "metadata": {},
   "outputs": [],
   "source": [
    "\n",
    "import numpy as np\n",
    "import tensorflow as tf\n",
    "from tensorflow.keras.layers import Input, Conv2D, UpSampling2D, Dropout, BatchNormalization, Activation\n",
    "from tensorflow.keras.models import Model\n",
    "from tensorflow.keras.applications import InceptionV3\n",
    "\n",
    "# Define a custom ResizeLayer\n",
    "class ResizeLayer(tf.keras.layers.Layer):\n",
    "    def __init__(self, target_height, target_width):\n",
    "        super(ResizeLayer, self).__init__()\n",
    "        self.target_height = target_height\n",
    "        self.target_width = target_width\n",
    "\n",
    "    def call(self, inputs):\n",
    "        return tf.image.resize(inputs, (self.target_height, self.target_width))\n",
    "\n",
    "# Define the input tensor with shape (512, 512, 15)\n",
    "input_tensor = Input(shape=(512, 512, 15))\n",
    "\n",
    "# Add a convolutional layer to convert the input to a 3-channel input suitable for InceptionV3\n",
    "x = Conv2D(3, (1, 1), padding='same', activation='relu')(input_tensor)\n",
    "\n",
    "# Create the base model with InceptionV3, excluding the top classification layer\n",
    "# Note: input_shape here is set to (512, 512, 3) since we are modifying it\n",
    "base_model = InceptionV3(weights='imagenet', include_top=False, input_shape=(512, 512, 3))\n",
    "\n",
    "# Ensure that base_model is called with a properly formed input\n",
    "base_model_output = base_model(x)\n",
    "\n",
    "# Inception Module A (Capture Features at Multiple Scales)\n",
    "x = Conv2D(512, (3, 3), activation='relu', padding='same')(base_model_output)\n",
    "x = Conv2D(512, (3, 3), activation='relu', padding='same')(x)\n",
    "\n",
    "# Reduction Module 1 (Downsample Spatial Dimensions / Lower the complexity)\n",
    "x = Conv2D(512, (3, 3), activation='relu', padding='same', strides=(2, 2))(x)\n",
    "x = BatchNormalization()(x)\n",
    "x = Activation('relu')(x)\n",
    "\n",
    "# Inception Module B (Reduce Parameters again while Maintaining Performance)\n",
    "x = Conv2D(256, (3, 3), activation='relu', padding='same')(x)\n",
    "x = Conv2D(256, (3, 3), activation='relu', padding='same')(x)\n",
    "\n",
    "# Reduction Module 2 (Downsample Spatial Dimensions / Lower the complexity)\n",
    "x = Conv2D(256, (3, 3), activation='relu', padding='same', strides=(2, 2))(x)\n",
    "x = BatchNormalization()(x)\n",
    "x = Activation('relu')(x)\n",
    "\n",
    "# Inception Module C (Refining Features)\n",
    "x = Conv2D(128, (3, 3), activation='relu', padding='same')(x)\n",
    "x = Conv2D(128, (3, 3), activation='relu', padding='same')(x)\n",
    "\n",
    "# Use the custom resize layer to resize the output to (512, 512)\n",
    "x = ResizeLayer(512, 512)(x)\n",
    "\n",
    "# Add the final convolutional layer\n",
    "x = Conv2D(4, (1, 1), padding='same')(x)\n",
    "\n",
    "# Apply the Softmax activation function to ensure the output represents a probability distribution\n",
    "predictions = tf.keras.layers.Softmax(axis=-1)(x)\n",
    "\n",
    "# Define the model with the input tensor and the predictions\n",
    "model = Model(inputs=input_tensor, outputs=predictions)\n",
    "\n",
    "# Freeze the convolutional layers of the pre-trained model\n",
    "for layer in base_model.layers:\n",
    "    layer.trainable = False\n",
    "\n",
    "# Compile the model with RMSprop optimizer and categorical cross-entropy loss\n",
    "model.compile(optimizer='rmsprop', loss='categorical_crossentropy', metrics=['accuracy'])\n",
    "\n",
    "\n"
   ]
  },
  {
   "cell_type": "markdown",
   "metadata": {},
   "source": []
  },
  {
   "cell_type": "markdown",
   "metadata": {},
   "source": [
    "## Train the model\n",
    "Model Training: The model is trained using the model.fit() method on train_dataset for a total of 10 epochs. The callbacks parameter, which would include a custom callback to monitor the training process, is currently commented out (# callbacks=[callbacks]). \n",
    "\n",
    "**What the Callback Accomplishes**\n",
    "The primary purpose of this callback is to implement early stopping in a custom way. Instead of using the built-in EarlyStopping callback provided by Keras, which stops training when a monitored metric has stopped improving, your custom callback uses a specific threshold for loss values to determine when to stop training. This can be particularly useful if you know from domain knowledge or previous experimentation that a certain loss value corresponds to an adequately trained model."
   ]
  },
  {
   "cell_type": "code",
   "execution_count": 43,
   "metadata": {},
   "outputs": [
    {
     "name": "stdout",
     "output_type": "stream",
     "text": [
      "Epoch 1/10\n",
      "\u001b[1m1/1\u001b[0m \u001b[32m━━━━━━━━━━━━━━━━━━━━\u001b[0m\u001b[37m\u001b[0m \u001b[1m5s\u001b[0m 5s/step - accuracy: 0.0577 - loss: 1.7735\n",
      "Epoch 2/10\n",
      "\u001b[1m1/1\u001b[0m \u001b[32m━━━━━━━━━━━━━━━━━━━━\u001b[0m\u001b[37m\u001b[0m \u001b[1m1s\u001b[0m 675ms/step - accuracy: 0.8695 - loss: 1.3603\n",
      "Epoch 3/10\n",
      "\u001b[1m1/1\u001b[0m \u001b[32m━━━━━━━━━━━━━━━━━━━━\u001b[0m\u001b[37m\u001b[0m \u001b[1m1s\u001b[0m 637ms/step - accuracy: 0.8695 - loss: 0.8660\n",
      "Epoch 4/10\n",
      "\u001b[1m1/1\u001b[0m \u001b[32m━━━━━━━━━━━━━━━━━━━━\u001b[0m\u001b[37m\u001b[0m \u001b[1m1s\u001b[0m 597ms/step - accuracy: 0.8695 - loss: 0.4720\n",
      "Epoch 5/10\n",
      "\u001b[1m1/1\u001b[0m \u001b[32m━━━━━━━━━━━━━━━━━━━━\u001b[0m\u001b[37m\u001b[0m \u001b[1m1s\u001b[0m 635ms/step - accuracy: 0.8695 - loss: 0.4290\n",
      "Epoch 6/10\n",
      "\u001b[1m1/1\u001b[0m \u001b[32m━━━━━━━━━━━━━━━━━━━━\u001b[0m\u001b[37m\u001b[0m \u001b[1m1s\u001b[0m 569ms/step - accuracy: 0.8695 - loss: 0.4500\n",
      "Epoch 7/10\n",
      "\u001b[1m1/1\u001b[0m \u001b[32m━━━━━━━━━━━━━━━━━━━━\u001b[0m\u001b[37m\u001b[0m \u001b[1m1s\u001b[0m 566ms/step - accuracy: 0.8681 - loss: 0.4426\n",
      "Epoch 8/10\n",
      "\u001b[1m1/1\u001b[0m \u001b[32m━━━━━━━━━━━━━━━━━━━━\u001b[0m\u001b[37m\u001b[0m \u001b[1m1s\u001b[0m 560ms/step - accuracy: 0.8695 - loss: 0.4185\n",
      "Epoch 9/10\n",
      "\u001b[1m1/1\u001b[0m \u001b[32m━━━━━━━━━━━━━━━━━━━━\u001b[0m\u001b[37m\u001b[0m \u001b[1m1s\u001b[0m 527ms/step - accuracy: 0.8695 - loss: 0.4042\n",
      "Epoch 10/10\n",
      "\u001b[1m1/1\u001b[0m \u001b[32m━━━━━━━━━━━━━━━━━━━━\u001b[0m\u001b[37m\u001b[0m \u001b[1m1s\u001b[0m 545ms/step - accuracy: 0.8695 - loss: 0.3988\n"
     ]
    }
   ],
   "source": [
    "class myCallback(tf.keras.callbacks.Callback):\n",
    "    def on_epoch_end(self, epoch, logs=None):\n",
    "        if logs.get('val_loss') <= 0.1099 and logs.get('loss') <= 0.1099:\n",
    "            print('\\n\\n Reached The Destination!')\n",
    "            self.model.stop_training = True\n",
    "\n",
    "callbacks = myCallback()\n",
    "history = model.fit(\n",
    "    train_dataset,\n",
    "    epochs=10\n",
    "    # callbacks=[callbacks]\n",
    ")\n"
   ]
  },
  {
   "cell_type": "markdown",
   "metadata": {},
   "source": [
    "## Save the Model as .h5"
   ]
  },
  {
   "cell_type": "code",
   "execution_count": 44,
   "metadata": {},
   "outputs": [
    {
     "name": "stderr",
     "output_type": "stream",
     "text": [
      "WARNING:absl:You are saving your model as an HDF5 file via `model.save()` or `keras.saving.save_model(model)`. This file format is considered legacy. We recommend using instead the native Keras format, e.g. `model.save('my_model.keras')` or `keras.saving.save_model(model, 'my_model.keras')`. \n"
     ]
    },
    {
     "name": "stdout",
     "output_type": "stream",
     "text": [
      "./inceptionv3_fcn_model_23_5.h5\n"
     ]
    }
   ],
   "source": [
    "model_path='./inceptionv3_fcn_model_23_5.h5'\n",
    "\n",
    "model.save(model_path)\n",
    "print(model_path)"
   ]
  },
  {
   "cell_type": "code",
   "execution_count": 45,
   "metadata": {},
   "outputs": [
    {
     "name": "stdout",
     "output_type": "stream",
     "text": [
      "Model saved successfully at ./inceptionv3_fcn_model_23_5.h5\n"
     ]
    }
   ],
   "source": [
    "\n",
    "if os.path.exists(model_path):\n",
    "    print(f\"Model saved successfully at {model_path}\")\n",
    "else:\n",
    "    print(f\"Model not found at {model_path}\")"
   ]
  },
  {
   "cell_type": "markdown",
   "metadata": {},
   "source": [
    "# 4. Model Testing: Make predictions"
   ]
  },
  {
   "cell_type": "markdown",
   "metadata": {},
   "source": [
    "## Load Model"
   ]
  },
  {
   "cell_type": "markdown",
   "metadata": {},
   "source": [
    "### Custom Layer Definition\n",
    "\n",
    "- **ResizeLayer**: A custom TensorFlow layer that resizes input tensors to specified dimensions, useful for matching tensor sizes in model architectures.\n",
    "\n",
    "### Custom Objects Dictionary\n",
    "\n",
    "- A dictionary that maps the string 'ResizeLayer' to the ResizeLayer class, enabling Keras to recognize and use the custom layer during model loading.\n",
    "\n",
    "### Loading the Model\n",
    "\n",
    "- The model is loaded with custom layers using `tf.keras.utils.custom_object_scope`, which is necessary when the model includes custom-defined components. The `load_model` function is used with `compile=False` to load the model without compiling it, suitable for inference or later customization."
   ]
  },
  {
   "cell_type": "code",
   "execution_count": 46,
   "metadata": {},
   "outputs": [],
   "source": [
    "from keras.models import load_model\n",
    "import tensorflow as tf\n",
    "\n",
    "# Define custom layer without 'trainable' argument\n",
    "class ResizeLayer(tf.keras.layers.Layer):\n",
    "    def __init__(self, target_height, target_width, **kwargs):\n",
    "        super(ResizeLayer, self).__init__(**kwargs)\n",
    "        self.target_height = target_height\n",
    "        self.target_width = target_width\n",
    "\n",
    "    def call(self, inputs):\n",
    "        return tf.image.resize(inputs, [self.target_height, self.target_width])\n",
    "\n",
    "# Add custom layer to the custom_objects dictionary\n",
    "custom_objects = {'ResizeLayer': ResizeLayer}\n",
    "\n",
    "# Load the model with the custom objects\n",
    "with tf.keras.utils.custom_object_scope(custom_objects):\n",
    "    model = load_model('inceptionv3_fcn_model_23_5.h5', compile=False)\n"
   ]
  },
  {
   "cell_type": "markdown",
   "metadata": {},
   "source": [
    "### `make_pred` Function\n",
    "\n",
    "- **Purpose**: Generates predictions from test data located in a specified directory.\n",
    "- **Process**:\n",
    "  1. **Data Loading**: Utilizes the `read_X` function to load test data (both features and labels) from the provided directory.\n",
    "  2. **Data Normalization**: Normalizes the feature data to a [0, 1] range for consistency with model training conditions.\n",
    "  3. **Data Reshaping**: Rearranges the data dimensions to match the input requirements of the TensorFlow model.\n",
    "  4. **Prediction**: Employs the previously trained model to compute predictions on the processed test data.\n",
    "  5. **One-Hot Encoding**: Converts the test labels into one-hot encoded format to facilitate comparison and evaluation against model predictions.\n",
    "- **Returns**: A tuple containing one-hot encoded test labels and the model predictions for evaluation."
   ]
  },
  {
   "cell_type": "code",
   "execution_count": 47,
   "metadata": {},
   "outputs": [],
   "source": [
    "def make_pred(dir):\n",
    "    # Read the test data from the specified directory\n",
    "    X_test, y_test = read_X(dir=dir)\n",
    "    \n",
    "    # Print the shape and data type of the test data\n",
    "    print(f\"Shape of X_test: {X_test.shape}\")\n",
    "    print(f\"Data type of X_test: {X_test.dtype}\")\n",
    "    \n",
    "    # Normalize the test data to the range [0, 1]\n",
    "    X_test = X_test / np.max(X_test)\n",
    "    \n",
    "    # Transpose the dimensions of X_test to (0, 2, 3, 1)\n",
    "    X_test = X_test.transpose((0, 2, 3, 1))\n",
    "    \n",
    "    # Make predictions using the model\n",
    "    predictions = model.predict(X_test)\n",
    "    \n",
    "    # Uncomment the following line to print the predictions\n",
    "    # print(predictions)\n",
    "    \n",
    "    # Convert y_test to one-hot encoding\n",
    "    y_test_one_hot = convert_to_one_hot(y_test)\n",
    "    \n",
    "    return y_test_one_hot, predictions\n"
   ]
  },
  {
   "cell_type": "markdown",
   "metadata": {},
   "source": [
    "## Make predictions"
   ]
  },
  {
   "cell_type": "code",
   "execution_count": 48,
   "metadata": {},
   "outputs": [
    {
     "name": "stdout",
     "output_type": "stream",
     "text": [
      "Shape of X_test: (4, 15, 512, 512)\n",
      "Data type of X_test: float32\n",
      "\u001b[1m1/1\u001b[0m \u001b[32m━━━━━━━━━━━━━━━━━━━━\u001b[0m\u001b[37m\u001b[0m \u001b[1m1s\u001b[0m 1s/step\n"
     ]
    }
   ],
   "source": [
    "y_test,y_pred= make_pred(dir='./testset')\n"
   ]
  },
  {
   "cell_type": "markdown",
   "metadata": {},
   "source": [
    "# 5. Model Evaluation"
   ]
  },
  {
   "cell_type": "markdown",
   "metadata": {},
   "source": [
    "## Verification of Prediction Normalization"
   ]
  },
  {
   "cell_type": "markdown",
   "metadata": {},
   "source": [
    "- **Purpose**: Validates that the sum of probabilities across all channels for each pixel in the predictions equals 1, ensuring that the output from the model represents a valid probability distribution.\n",
    "- **Process**:\n",
    "  1. **Sum Calculation**: Computes the sum of predicted values across all channels for each pixel using `np.sum(y_pred, axis=-1)`.\n",
    "  2. **Verification**: Uses `np.allclose(sum_of_channels, 1)` to check if all these sums are close to 1, confirming proper softmax normalization in the model's output.\n",
    "- **Output**: Prints a boolean result indicating whether all pixel predictions adhere to the expected normalization criterion. This step is crucial for confirming that the model's predictions are probabilistically sound."
   ]
  },
  {
   "cell_type": "code",
   "execution_count": 49,
   "metadata": {},
   "outputs": [
    {
     "name": "stdout",
     "output_type": "stream",
     "text": [
      "Are all sums of the four channels equal to 1? True\n"
     ]
    }
   ],
   "source": [
    "# Check if the sum of channel values for each pixel is equal to 1\n",
    "sum_of_channels = np.sum(y_pred, axis=-1)\n",
    "#print(sum_of_channels)\n",
    "\n",
    "# Verify if all values are close to 1\n",
    "are_all_close_to_one = np.allclose(sum_of_channels, 1)\n",
    "print(f\"Are all sums of the four channels equal to 1? {are_all_close_to_one}\")\n"
   ]
  },
  {
   "cell_type": "markdown",
   "metadata": {},
   "source": [
    "## Calculate Accuracy"
   ]
  },
  {
   "cell_type": "code",
   "execution_count": 50,
   "metadata": {},
   "outputs": [
    {
     "data": {
      "text/plain": [
       "0.8716917037963867"
      ]
     },
     "execution_count": 50,
     "metadata": {},
     "output_type": "execute_result"
    }
   ],
   "source": [
    "def calculate_accuracy(y_true, y_pred, num_classes=4):\n",
    "    \"\"\"\n",
    "    Calculate classification accuracy.\n",
    "    \n",
    "    :param y_true: Actual labels, shape (batch_size, height, width, num_classes)\n",
    "    :param y_pred: Predicted labels, shape (batch_size, height, width, num_classes)\n",
    "    :param num_classes: Number of classes\n",
    "    :return: Classification accuracy\n",
    "    \"\"\"\n",
    "    # Convert one-hot encoded labels to class indices\n",
    "    y_true_class = np.argmax(y_true, axis=-1)\n",
    "    y_pred_class = np.argmax(y_pred, axis=-1)\n",
    "    \n",
    "    # Calculate accuracy\n",
    "    correct_predictions = np.sum(y_true_class == y_pred_class)\n",
    "    total_predictions = y_true_class.size\n",
    "    \n",
    "    accuracy = correct_predictions / total_predictions\n",
    "    return accuracy\n",
    "\n",
    "# Call the function to calculate accuracy\n",
    "calculate_accuracy(y_test, y_pred, num_classes=4)\n"
   ]
  },
  {
   "cell_type": "markdown",
   "metadata": {},
   "source": [
    "## Calculate MIoU"
   ]
  },
  {
   "attachments": {
    "image.png": {
     "image/png": "[encoded data removed]"
    }
   },
   "cell_type": "markdown",
   "metadata": {},
   "source": [
    "mIoU (Mean Intersection over Union) is calculated as the average of the ratio of the intersection to the union of the predicted and actual segmentations across classes,it providing a measure of a segmentation model's accuracy and consistency.\n",
    "![image.png](attachment:image.png)"
   ]
  },
  {
   "cell_type": "code",
   "execution_count": 51,
   "metadata": {},
   "outputs": [
    {
     "data": {
      "text/plain": [
       "0.4679229259490967"
      ]
     },
     "execution_count": 51,
     "metadata": {},
     "output_type": "execute_result"
    }
   ],
   "source": [
    "def calculate_miou(y_true, y_pred, num_classes):\n",
    "    \"\"\"\n",
    "    Calculate Mean Intersection over Union (mIoU).\n",
    "    \n",
    "    :param y_true: Actual labels, shape (batch_size, height, width, num_classes)\n",
    "    :param y_pred: Predicted labels, shape (batch_size, height, width, num_classes)\n",
    "    :param num_classes: Number of classes\n",
    "    :return: Mean Intersection over Union (mIoU)\n",
    "    \"\"\"\n",
    "\n",
    "    # Convert one-hot encoded labels to class indices\n",
    "    y_true = np.argmax(y_true, axis=-1)\n",
    "    y_pred = np.argmax(y_pred, axis=-1)\n",
    "\n",
    "    iou_list = []\n",
    "    for c in range(num_classes):\n",
    "\n",
    "        \n",
    "        # Create boolean arrays for the current class\n",
    "        true_class = (y_true == c)\n",
    "        pred_class = (y_pred == c)\n",
    "        \n",
    "        # Calculate the intersection and union for the current class\n",
    "        intersection = np.sum(true_class & pred_class)\n",
    "        \n",
    "        union = np.sum(true_class | pred_class)\n",
    "        \n",
    "        if union == 0:\n",
    "            iou = 1.0  # If there is no ground truth or predicted instance in this class\n",
    "\n",
    "        else:\n",
    "            iou = intersection / union\n",
    "\n",
    "        \n",
    "        # Append the IoU for the current class to the list\n",
    "        iou_list.append(iou)\n",
    "    \n",
    "    # Calculate the mean IoU across all classes\n",
    "    miou = np.mean(iou_list)\n",
    "    \n",
    "    return miou\n",
    "\n",
    "# Call the function to calculate mIoU\n",
    "calculate_miou(y_test, y_pred, num_classes=4)\n"
   ]
  },
  {
   "cell_type": "markdown",
   "metadata": {},
   "source": [
    "# Conclusion"
   ]
  },
  {
   "cell_type": "markdown",
   "metadata": {},
   "source": [
    "In conclusion, the initial deployment of our convolutional neural network model for differentiating crops from weeds using multi-spectral imaging data demonstrated a promising start with an accuracy of 60% and a mean Intersection over Union (mIoU) score of 0.48. While these metrics affirm the model's potential, they also highlight significant opportunities for enhancement to meet the high demands of precision agriculture.\n",
    "\n",
    "The complexity of the agricultural datasets, coupled with the high dimensionality of the input data and apparent data imbalances, necessitates a strategic approach to refine our model's accuracy and efficiency. The upcoming phases of our project will focus on several critical areas to address these challenges:\n",
    "\n",
    "1. **Feature Selection:** We aim to enhance model performance through meticulous feature selection. Techniques like Recursive Feature Elimination (RFE), Principal Component Analysis (PCA), and leveraging domain-specific knowledge will be employed to isolate the most effective features for crop-weed classification.\n",
    "\n",
    "2. **Hyperparameter Tuning:** By experimenting with various hyperparameters—learning rates, batch sizes, and network architectures—we intend to find an optimal configuration that boosts model efficacy. Advanced methods such as Grid Search, Random Search, and Bayesian Optimization will play pivotal roles in this systematic exploration.\n",
    "\n",
    "3. **Addressing Data Imbalance:** The skew towards crop classifications within our dataset will be tackled using methods designed to equalize class representation, such as oversampling minority classes, undersampling majority classes, and implementing Synthetic Minority Over-sampling Technique (SMOTE). Additionally, we plan to integrate sophisticated augmentation strategies to further balance the dataset.\n",
    "\n",
    "By focusing on these areas, we are confident in significantly advancing our model's performance, ultimately contributing to more accurate, efficient, and sustainable agricultural practices. This progress will not only bolster the model's theoretical underpinnings but also enhance its practical applicability, providing a robust tool for farmers and agronomists to optimize crop management and weed control strategies."
   ]
  }
 ],
 "metadata": {
  "kernelspec": {
   "display_name": "base",
   "language": "python",
   "name": "python3"
  },
  "language_info": {
   "codemirror_mode": {
    "name": "ipython",
    "version": 3
   },
   "file_extension": ".py",
   "mimetype": "text/x-python",
   "name": "python",
   "nbconvert_exporter": "python",
   "pygments_lexer": "ipython3",
   "version": "3.11.7"
  }
 },
 "nbformat": 4,
 "nbformat_minor": 2
}
